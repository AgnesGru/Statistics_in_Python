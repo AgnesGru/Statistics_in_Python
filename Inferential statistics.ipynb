{
 "cells": [
  {
   "cell_type": "code",
   "execution_count": 1,
   "metadata": {},
   "outputs": [],
   "source": [
    "import pandas as pd\n",
    "import numpy as np"
   ]
  },
  {
   "cell_type": "code",
   "execution_count": 58,
   "metadata": {},
   "outputs": [
    {
     "data": {
      "text/plain": [
       "[14.36,\n",
       " 14.44,\n",
       " 14.42,\n",
       " 14.72,\n",
       " 14.09,\n",
       " 14.99,\n",
       " 13.64,\n",
       " 14.18,\n",
       " 14.49,\n",
       " 14.38,\n",
       " 14.99,\n",
       " 14.33,\n",
       " 14.33,\n",
       " 14.08,\n",
       " 14.18,\n",
       " 14.41,\n",
       " 14.82,\n",
       " 14.63,\n",
       " 15.03,\n",
       " 14.64,\n",
       " 14.7,\n",
       " 14.78,\n",
       " 14.55,\n",
       " 14.41,\n",
       " 14.48,\n",
       " 14.14,\n",
       " 14.24,\n",
       " 14.35,\n",
       " 15.0,\n",
       " 14.02,\n",
       " 14.19,\n",
       " 14.44,\n",
       " 14.29,\n",
       " 14.77,\n",
       " 14.49,\n",
       " 14.36,\n",
       " 14.35,\n",
       " 14.45,\n",
       " 14.4,\n",
       " 14.48,\n",
       " 14.85,\n",
       " 14.06,\n",
       " 14.55,\n",
       " 14.62,\n",
       " 14.23,\n",
       " 14.0,\n",
       " 14.43,\n",
       " 14.34,\n",
       " 14.19,\n",
       " 13.83,\n",
       " 14.55,\n",
       " 13.93,\n",
       " 14.52,\n",
       " 14.91,\n",
       " 14.4,\n",
       " 14.66,\n",
       " 14.17,\n",
       " 15.0,\n",
       " 14.4,\n",
       " 14.52,\n",
       " 14.13,\n",
       " 14.82,\n",
       " 14.55,\n",
       " 14.43,\n",
       " 14.1,\n",
       " 14.32,\n",
       " 14.84,\n",
       " 14.34,\n",
       " 14.52,\n",
       " 14.06,\n",
       " 14.24,\n",
       " 14.61,\n",
       " 14.69,\n",
       " 14.05,\n",
       " 14.26,\n",
       " 13.95,\n",
       " 14.32,\n",
       " 14.84,\n",
       " 14.81,\n",
       " 14.92,\n",
       " 15.06,\n",
       " 13.92,\n",
       " 14.85,\n",
       " 14.59,\n",
       " 14.57,\n",
       " 14.87,\n",
       " 14.26,\n",
       " 14.19,\n",
       " 14.28,\n",
       " 14.82,\n",
       " 14.71,\n",
       " 14.71,\n",
       " 14.45,\n",
       " 14.41,\n",
       " 14.51,\n",
       " 14.28,\n",
       " 14.27,\n",
       " 14.24,\n",
       " 14.11,\n",
       " 14.33,\n",
       " 15.1,\n",
       " 14.46,\n",
       " 14.87,\n",
       " 14.46,\n",
       " 14.57,\n",
       " 13.89,\n",
       " 14.47,\n",
       " 14.83,\n",
       " 14.08,\n",
       " 14.4,\n",
       " 13.84,\n",
       " 14.7,\n",
       " 13.86,\n",
       " 13.92,\n",
       " 14.7,\n",
       " 14.41,\n",
       " 13.85,\n",
       " 14.2,\n",
       " 14.47,\n",
       " 14.45,\n",
       " 14.76,\n",
       " 14.08,\n",
       " 14.05,\n",
       " 14.16,\n",
       " 14.65,\n",
       " 14.8,\n",
       " 14.02,\n",
       " 14.52,\n",
       " 14.6,\n",
       " 14.2,\n",
       " 14.12,\n",
       " 14.54,\n",
       " 14.12,\n",
       " 14.27,\n",
       " 14.36,\n",
       " 14.47,\n",
       " 14.45,\n",
       " 14.84,\n",
       " 14.49,\n",
       " 14.52,\n",
       " 14.73,\n",
       " 15.0,\n",
       " 14.86,\n",
       " 14.7,\n",
       " 14.96,\n",
       " 14.56,\n",
       " 14.88,\n",
       " 14.39,\n",
       " 14.75,\n",
       " 14.27,\n",
       " 14.94,\n",
       " 13.91,\n",
       " 14.61,\n",
       " 13.94,\n",
       " 14.6,\n",
       " 14.59,\n",
       " 14.64,\n",
       " 14.47,\n",
       " 14.7,\n",
       " 14.96,\n",
       " 14.92,\n",
       " 14.23,\n",
       " 14.27,\n",
       " 14.14,\n",
       " 14.5,\n",
       " 14.22,\n",
       " 14.5,\n",
       " 14.25,\n",
       " 14.29,\n",
       " 14.29,\n",
       " 14.89,\n",
       " 14.61,\n",
       " 14.44,\n",
       " 14.89,\n",
       " 14.77,\n",
       " 14.51,\n",
       " 14.47,\n",
       " 14.5,\n",
       " 14.27,\n",
       " 14.61,\n",
       " 14.57,\n",
       " 14.64,\n",
       " 14.75,\n",
       " 14.17,\n",
       " 14.52,\n",
       " 14.42,\n",
       " 14.06,\n",
       " 14.2,\n",
       " 14.73,\n",
       " 14.15,\n",
       " 14.56,\n",
       " 14.38,\n",
       " 14.88,\n",
       " 14.57,\n",
       " 14.43,\n",
       " 14.24,\n",
       " 14.28,\n",
       " 14.71,\n",
       " 14.21,\n",
       " 14.75]"
      ]
     },
     "execution_count": 58,
     "metadata": {},
     "output_type": "execute_result"
    }
   ],
   "source": [
    "population = np.random.randint(10,20,1000)\n",
    "\n",
    "estimates = [np.random.choice(population, 100).mean() for i in range(200)]\n",
    "# 200 razy wybierz z population i policz średnią\n",
    "estimates"
   ]
  },
  {
   "cell_type": "code",
   "execution_count": 59,
   "metadata": {},
   "outputs": [
    {
     "data": {
      "text/plain": [
       "14.453"
      ]
     },
     "execution_count": 59,
     "metadata": {},
     "output_type": "execute_result"
    }
   ],
   "source": [
    "np.mean(population)"
   ]
  },
  {
   "cell_type": "code",
   "execution_count": 60,
   "metadata": {},
   "outputs": [
    {
     "data": {
      "text/plain": [
       "<AxesSubplot:ylabel='Density'>"
      ]
     },
     "execution_count": 60,
     "metadata": {},
     "output_type": "execute_result"
    },
    {
     "data": {
      "image/png": "[encoded data removed]",
      "text/plain": [
       "<Figure size 432x288 with 1 Axes>"
      ]
     },
     "metadata": {
      "needs_background": "light"
     },
     "output_type": "display_data"
    }
   ],
   "source": [
    "pd.DataFrame(estimates).plot(kind='density')"
   ]
  },
  {
   "cell_type": "markdown",
   "metadata": {},
   "source": [
    "### pionts of estimatins = Confidence Intervals"
   ]
  },
  {
   "cell_type": "markdown",
   "metadata": {},
   "source": [
    "##### margin of error = critical value * stdev/sqroot(sample size)"
   ]
  },
  {
   "cell_type": "code",
   "execution_count": 62,
   "metadata": {},
   "outputs": [
    {
     "data": {
      "text/plain": [
       "1.96"
      ]
     },
     "execution_count": 62,
     "metadata": {},
     "output_type": "execute_result"
    }
   ],
   "source": [
    "import scipy.stats as stats\n",
    "\n",
    "z_critical = stats.norm.ppf(q = 0.975).round(2)\n",
    "z_critical"
   ]
  },
  {
   "cell_type": "code",
   "execution_count": 76,
   "metadata": {},
   "outputs": [
    {
     "data": {
      "text/plain": [
       "2.064"
      ]
     },
     "execution_count": 76,
     "metadata": {},
     "output_type": "execute_result"
    }
   ],
   "source": [
    "t_critical = stats.t.ppf(q = 0.975, df = 24).round(3)\n",
    "t_critical"
   ]
  },
  {
   "cell_type": "code",
   "execution_count": 77,
   "metadata": {},
   "outputs": [
    {
     "data": {
      "text/plain": [
       "0.04107747535353165"
      ]
     },
     "execution_count": 77,
     "metadata": {},
     "output_type": "execute_result"
    }
   ],
   "source": [
    "margin_of_error = z_critical * (np.std(estimates)/np.sqrt(200))\n",
    "margin_of_error"
   ]
  },
  {
   "cell_type": "code",
   "execution_count": 78,
   "metadata": {},
   "outputs": [
    {
     "data": {
      "text/plain": [
       "14.415"
      ]
     },
     "execution_count": 78,
     "metadata": {},
     "output_type": "execute_result"
    }
   ],
   "source": [
    "lower = np.mean(estimates) - margin_of_error\n",
    "lower.round(3)"
   ]
  },
  {
   "cell_type": "code",
   "execution_count": 79,
   "metadata": {},
   "outputs": [
    {
     "data": {
      "text/plain": [
       "14.497"
      ]
     },
     "execution_count": 79,
     "metadata": {},
     "output_type": "execute_result"
    }
   ],
   "source": [
    "upper = np.mean(estimates) + margin_of_error\n",
    "upper.round(3)"
   ]
  },
  {
   "cell_type": "code",
   "execution_count": 80,
   "metadata": {},
   "outputs": [
    {
     "data": {
      "text/plain": [
       "'populatin_mean 14.453: (14.415; 14.497)'"
      ]
     },
     "execution_count": 80,
     "metadata": {},
     "output_type": "execute_result"
    }
   ],
   "source": [
    "# 95% CI\n",
    "f\"populatin_mean {np.mean(population)}: ({lower.round(3)}; {upper.round(3)})\""
   ]
  },
  {
   "cell_type": "code",
   "execution_count": null,
   "metadata": {},
   "outputs": [],
   "source": []
  }
 ],
 "metadata": {
  "kernelspec": {
   "display_name": "Python 3",
   "language": "python",
   "name": "python3"
  },
  "language_info": {
   "codemirror_mode": {
    "name": "ipython",
    "version": 3
   },
   "file_extension": ".py",
   "mimetype": "text/x-python",
   "name": "python",
   "nbconvert_exporter": "python",
   "pygments_lexer": "ipython3",
   "version": "3.7.9"
  }
 },
 "nbformat": 4,
 "nbformat_minor": 4
}
